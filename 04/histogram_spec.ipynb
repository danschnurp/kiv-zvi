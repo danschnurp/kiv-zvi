{
  "cells": [
    {
      "cell_type": "code",
      "metadata": {},
      "source": [
        "import os\n",
        "\n",
        "import cv2\n",
        "import numpy as np\n",
        "from matplotlib import pyplot as plt\n",
        "\n",
        "\n",
        "def load_image_cv2(image_path: str) -> np.ndarray:\n",
        "    img = cv2.imread(image_path, cv2.IMREAD_GRAYSCALE)\n",
        "    assert img is not None, \"file could not be read...\"\n",
        "    return img\n",
        "\n",
        "\n",
        "def show_image_now(image: np.ndarray, cmap=\"gray\"):\n",
        "    plt.imshow(image, cmap=cmap)\n",
        "    plt.show()\n",
        "\n",
        "\n",
        "def path_to_images(output_filename=\"images\", output_dir=\"../\") -> str:\n",
        "    \"\"\"\n",
        "    > This function returns the path to the images directory\n",
        "\n",
        "    :param output_filename: The name of the folder that will be created to store the images, defaults to images (optional)\n",
        "    :param output_dir: The directory to save the images to, defaults to ../ (optional)\n",
        "    \"\"\"\n",
        "    if output_filename not in os.listdir(output_dir):\n",
        "        if output_dir[-1] != \"/\":\n",
        "            output_dir += \"/\"\n",
        "        os.mkdir(output_dir + output_filename)\n",
        "    output_dir += output_filename\n",
        "    return output_dir + \"/\"\n",
        "\n",
        "\n",
        "img = load_image_cv2(path_to_images() + \"nebula.png\")\n",
        "\n",
        "show_image_now(img, cmap='gray')"
      ],
      "outputs": [],
      "execution_count": null
    },
    {
      "cell_type": "code",
      "metadata": {},
      "source": [
        "\n",
        "# create histogram using opencv\n",
        "# check its shape\n",
        "\n",
        "hist = cv2.calcHist([img], [0], None, [256], [0, 255])\n",
        "print(hist.shape)\n",
        "hist = np.reshape(hist, (hist.shape[0],))\n",
        "hist /= img.shape[0] * img.shape[1]\n",
        "print(hist.shape)\n",
        "plt.plot(np.arange(0, len(hist)), hist, color='blue')\n",
        "plt.xlim([0, 256])\n",
        "plt.title(\"First Histogram\")\n",
        "plt.show()"
      ],
      "outputs": [],
      "execution_count": null
    },
    {
      "cell_type": "code",
      "metadata": {},
      "source": [
        "\n",
        "# prepare cumulative histogram\n",
        "\n",
        "\n",
        "hist_sum = np.zeros_like(hist)\n",
        "\n",
        "for i in range(1, len(hist)):\n",
        "    hist_sum[i] = hist_sum[i - 1] + hist[i]\n",
        "\n",
        "plt.title(\"Cumulative Histogram\")\n",
        "\n",
        "plt.plot(np.arange(0, len(hist_sum)), hist_sum, color='blue')\n",
        "\n",
        "plt.xlim([0, 256])\n",
        "plt.show()\n"
      ],
      "outputs": [],
      "execution_count": null
    },
    {
      "cell_type": "code",
      "metadata": {},
      "source": [
        "def gauss(x, sigma, mean):\n",
        "    val = 1 / (sigma * np.sqrt(2 * np.pi))\n",
        "    val *= np.exp(-0.5 * ((x - mean) / sigma * (x - mean) / sigma))\n",
        "    return val\n"
      ],
      "outputs": [],
      "execution_count": null
    },
    {
      "cell_type": "code",
      "metadata": {},
      "source": [
        "target_hist = np.zeros(hist.shape)\n",
        "for i in range(0, 256):\n",
        "    target_hist[i] = gauss(i / 255, 0.1, 0.3) / 255\n",
        "\n",
        "print(np.sum(target_hist))\n",
        "plt.plot(target_hist, color='blue')\n",
        "plt.xlim([0, 256])\n",
        "plt.show()"
      ],
      "outputs": [],
      "execution_count": null
    },
    {
      "cell_type": "code",
      "metadata": {},
      "source": [
        "\n",
        "# cumulative target histogram\n",
        "\n",
        "target_hist_sum = np.zeros_like(target_hist)\n",
        "for i in range(len(target_hist)):\n",
        "    target_hist_sum[i] = target_hist_sum[i - 1] + target_hist[i]\n",
        "\n",
        "plt.plot(target_hist_sum, color='blue')\n",
        "plt.xlim([0, 256])\n",
        "plt.title(\"Cumulative Target Histogram\")\n",
        "plt.show()"
      ],
      "outputs": [],
      "execution_count": null
    },
    {
      "cell_type": "code",
      "metadata": {},
      "source": [
        "\n",
        "# prepare lookup table for mapping\n",
        "\n",
        "mapping = np.zeros(hist.shape)\n",
        "\n",
        "target_val = 0\n",
        "\n",
        "for i in range(len(mapping)):\n",
        "    mapping[i] = np.argmax(target_hist_sum > hist_sum[i])\n",
        "# editing negative burnings\n",
        "mapping[np.argmax(mapping):] = 255\n",
        "\n",
        "\n",
        "print(mapping[:10], mapping[-10:])"
      ],
      "outputs": [],
      "execution_count": null
    },
    {
      "cell_type": "code",
      "metadata": {},
      "source": [
        "\n",
        "# remap the image\n",
        "\n",
        "\n",
        "new_img = np.zeros_like(img)\n",
        "\n",
        "# mapping by vectors (rows)\n",
        "for index, i in enumerate(img):\n",
        "    new_img[index] = mapping[i]\n",
        "\n",
        "plt.imshow(new_img, cmap='gray')"
      ],
      "outputs": [],
      "execution_count": null
    },
    {
      "cell_type": "code",
      "metadata": {},
      "source": [
        "\n",
        "# check resulting histogram\n",
        "\n",
        "hist = cv2.calcHist([new_img], [0], None, [256], [0, 255])\n",
        "print(hist.shape)\n",
        "hist = np.reshape(hist, (hist.shape[0],))\n",
        "hist /= img.shape[0] * img.shape[1]\n",
        "print(hist.shape)\n",
        "plt.plot(hist, color='blue')\n",
        "plt.xlim([0, 256])\n",
        "plt.show()"
      ],
      "outputs": [],
      "execution_count": null
    },
    {
      "cell_type": "code",
      "metadata": {},
      "source": [],
      "outputs": [],
      "execution_count": null
    }
  ],
  "metadata": {
    "anaconda-cloud": {},
    "kernelspec": {
      "display_name": "Python 3",
      "language": "python",
      "name": "python3"
    },
    "language_info": {
      "codemirror_mode": {
        "name": "ipython",
        "version": 3
      },
      "file_extension": ".py",
      "mimetype": "text/x-python",
      "name": "python",
      "nbconvert_exporter": "python",
      "pygments_lexer": "ipython3",
      "version": "3.6.1"
    }
  },
  "nbformat": 4,
  "nbformat_minor": 4
}